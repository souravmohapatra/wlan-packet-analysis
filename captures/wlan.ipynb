{
 "cells": [
  {
   "cell_type": "code",
   "execution_count": 1,
   "id": "continent-belfast",
   "metadata": {},
   "outputs": [],
   "source": [
    "import pandas as pd\n",
    "import matplotlib.pyplot as plt\n",
    "import numpy as np"
   ]
  },
  {
   "cell_type": "markdown",
   "id": "massive-thirty",
   "metadata": {},
   "source": [
    "### Read the data"
   ]
  },
  {
   "cell_type": "code",
   "execution_count": 2,
   "id": "quantitative-mixture",
   "metadata": {},
   "outputs": [],
   "source": [
    "packets = pd.read_csv('packets_cumulative.txt', sep='\\t')"
   ]
  },
  {
   "cell_type": "code",
   "execution_count": 3,
   "id": "devoted-joining",
   "metadata": {},
   "outputs": [],
   "source": [
    "packets.dropna(subset = [\"Subtype\"], inplace=True)"
   ]
  },
  {
   "cell_type": "code",
   "execution_count": 4,
   "id": "clear-kuwait",
   "metadata": {
    "scrolled": true
   },
   "outputs": [
    {
     "name": "stdout",
     "output_type": "stream",
     "text": [
      "[0, 1, 2, 3, 4, 5, 6, 7, 8, 9, 10, 11, 12, 13, 14, 15, 16, 17, 18, 19, 20, 21, 24, 25, 26, 27, 28, 29, 30, 31, 32, 33, 34, 35, 36, 37, 38, 39, 40, 41, 42, 43, 44, 45, 46, 47]\n"
     ]
    }
   ],
   "source": [
    "subtypes = np.array(packets.Subtype.unique().tolist(), int).tolist()\n",
    "subtypes.sort()\n",
    "print(subtypes)"
   ]
  },
  {
   "cell_type": "code",
   "execution_count": 15,
   "id": "compact-computer",
   "metadata": {},
   "outputs": [
    {
     "data": {
      "text/html": [
       "<div>\n",
       "<style scoped>\n",
       "    .dataframe tbody tr th:only-of-type {\n",
       "        vertical-align: middle;\n",
       "    }\n",
       "\n",
       "    .dataframe tbody tr th {\n",
       "        vertical-align: top;\n",
       "    }\n",
       "\n",
       "    .dataframe thead th {\n",
       "        text-align: right;\n",
       "    }\n",
       "</style>\n",
       "<table border=\"1\" class=\"dataframe\">\n",
       "  <thead>\n",
       "    <tr style=\"text-align: right;\">\n",
       "      <th></th>\n",
       "      <th>Channel</th>\n",
       "      <th>Type</th>\n",
       "      <th>Subtype</th>\n",
       "    </tr>\n",
       "  </thead>\n",
       "  <tbody>\n",
       "    <tr>\n",
       "      <th>count</th>\n",
       "      <td>1.244776e+07</td>\n",
       "      <td>1.244776e+07</td>\n",
       "      <td>1.244776e+07</td>\n",
       "    </tr>\n",
       "    <tr>\n",
       "      <th>mean</th>\n",
       "      <td>3.805803e+01</td>\n",
       "      <td>8.760676e-01</td>\n",
       "      <td>2.463227e+01</td>\n",
       "    </tr>\n",
       "    <tr>\n",
       "      <th>std</th>\n",
       "      <td>3.937176e+01</td>\n",
       "      <td>4.244883e-01</td>\n",
       "      <td>7.785576e+00</td>\n",
       "    </tr>\n",
       "    <tr>\n",
       "      <th>min</th>\n",
       "      <td>1.000000e+00</td>\n",
       "      <td>0.000000e+00</td>\n",
       "      <td>0.000000e+00</td>\n",
       "    </tr>\n",
       "    <tr>\n",
       "      <th>25%</th>\n",
       "      <td>8.000000e+00</td>\n",
       "      <td>1.000000e+00</td>\n",
       "      <td>2.500000e+01</td>\n",
       "    </tr>\n",
       "    <tr>\n",
       "      <th>50%</th>\n",
       "      <td>3.600000e+01</td>\n",
       "      <td>1.000000e+00</td>\n",
       "      <td>2.700000e+01</td>\n",
       "    </tr>\n",
       "    <tr>\n",
       "      <th>75%</th>\n",
       "      <td>4.400000e+01</td>\n",
       "      <td>1.000000e+00</td>\n",
       "      <td>2.800000e+01</td>\n",
       "    </tr>\n",
       "    <tr>\n",
       "      <th>max</th>\n",
       "      <td>1.650000e+02</td>\n",
       "      <td>2.000000e+00</td>\n",
       "      <td>4.700000e+01</td>\n",
       "    </tr>\n",
       "  </tbody>\n",
       "</table>\n",
       "</div>"
      ],
      "text/plain": [
       "            Channel          Type       Subtype\n",
       "count  1.244776e+07  1.244776e+07  1.244776e+07\n",
       "mean   3.805803e+01  8.760676e-01  2.463227e+01\n",
       "std    3.937176e+01  4.244883e-01  7.785576e+00\n",
       "min    1.000000e+00  0.000000e+00  0.000000e+00\n",
       "25%    8.000000e+00  1.000000e+00  2.500000e+01\n",
       "50%    3.600000e+01  1.000000e+00  2.700000e+01\n",
       "75%    4.400000e+01  1.000000e+00  2.800000e+01\n",
       "max    1.650000e+02  2.000000e+00  4.700000e+01"
      ]
     },
     "execution_count": 15,
     "metadata": {},
     "output_type": "execute_result"
    }
   ],
   "source": [
    "packets.describe()"
   ]
  },
  {
   "cell_type": "code",
   "execution_count": 12,
   "id": "opponent-subcommittee",
   "metadata": {},
   "outputs": [],
   "source": [
    "types = {0  :{'Association Requests':0},\n",
    "         1  :{'Association Responses':0},\n",
    "         2  :{'Reassociation Requests':0},\n",
    "         3  :{'Resssociation Responses':0},\n",
    "         4  :{'Probe Requests':0},\n",
    "         5  :{'Probe Responses':0},\n",
    "         6  :{'Fragmented frame':0},\n",
    "         7  :{'Unrecognized':0},\n",
    "         8  :{'Beacons':0},\n",
    "         9  :{'ATIMs':0},\n",
    "         10 :{'Disassociations':0},\n",
    "         11 :{'Authentications':0},\n",
    "         12 :{'Deauthentications':0},\n",
    "         13 :{'Actions':0},\n",
    "         14 :{'Beamforming Action':0},\n",
    "         15 :{'Aruba Management Packet':0},\n",
    "         16 :{'Unrecognized':0},\n",
    "         17 :{'Unrecognized':0},\n",
    "         19 :{'Unrecognized':0},\n",
    "         18 :{'Trigger BQRP':0},\n",
    "         20 :{'Unrecognized':0},\n",
    "         21 :{'NDP Announcement':0},\n",
    "         24 :{'Block ACK Requests':0},\n",
    "         25 :{'Block ACKs':0},\n",
    "         26 :{'PS-Polls':0},\n",
    "         27 :{'Ready To Sends':0},\n",
    "         28 :{'Clear To Sends':0},\n",
    "         29 :{'ACKs':0},\n",
    "         30 :{'CF-Ends':0},\n",
    "         31 :{'CF-Ends/CF-Acks':0},\n",
    "         32 :{'Data':0},\n",
    "         33 :{'Data+CF-Ack':0},\n",
    "         34 :{'Data+CF-Poll':0},\n",
    "         35 :{'Data+CF-Ack+CF-Poll':0},\n",
    "         36 :{'Null':0},\n",
    "         37 :{'CF-Ack':0},\n",
    "         38 :{'CF-Poll':0},\n",
    "         39 :{'CF-Ack+CF-Poll':0},\n",
    "         40 :{'QoS Data':0},\n",
    "         41 :{'QoS Data+CF-Ack':0},\n",
    "         42 :{'QoS Data+CF-Poll':0},\n",
    "         43 :{'QoS Data+CF-Ack+CF-Poll':0},\n",
    "         44 :{'QoS Null':0},\n",
    "         45 :{'Unrecognized':0},\n",
    "         46 :{'QoS CF-Poll':0},\n",
    "         47 :{'QoS CF-Ack+CF-Poll':0}}"
   ]
  },
  {
   "cell_type": "code",
   "execution_count": 13,
   "id": "choice-europe",
   "metadata": {},
   "outputs": [],
   "source": [
    "types_new = types\n",
    "\n",
    "for index, row in packets.iterrows():\n",
    "    types_new[int(row['Subtype'])][list(types_new[int(row['Subtype'])].keys())[0]] = types_new[int(row['Subtype'])][list(types_new[int(row['Subtype'])].keys())[0]] + 1"
   ]
  },
  {
   "cell_type": "code",
   "execution_count": 14,
   "id": "popular-thong",
   "metadata": {},
   "outputs": [
    {
     "data": {
      "text/plain": [
       "{0: {'Association Requests': 23},\n",
       " 1: {'Association Responses': 77},\n",
       " 2: {'Reassociation Requests': 40},\n",
       " 3: {'Resssociation Responses': 32},\n",
       " 4: {'Probe Requests': 14541},\n",
       " 5: {'Probe Responses': 106355},\n",
       " 6: {'Fragmented frame': 22},\n",
       " 7: {'Unrecognized': 12},\n",
       " 8: {'Beacons': 1852421},\n",
       " 9: {'ATIMs': 7},\n",
       " 10: {'Disassociations': 25},\n",
       " 11: {'Authentications': 147},\n",
       " 12: {'Deauthentications': 71},\n",
       " 13: {'Actions': 11579},\n",
       " 14: {'Beamforming Action': 3045},\n",
       " 15: {'Aruba Management Packet': 21},\n",
       " 16: {'Unrecognized': 3},\n",
       " 17: {'Unrecognized': 4},\n",
       " 19: {'Unrecognized': 9},\n",
       " 18: {'Trigger BQRP': 1},\n",
       " 20: {'Unrecognized': 8},\n",
       " 21: {'NDP Announcement': 110932},\n",
       " 24: {'Block ACK Requests': 58646},\n",
       " 25: {'Block ACKs': 1720390},\n",
       " 26: {'PS-Polls': 3},\n",
       " 27: {'Ready To Sends': 3274997},\n",
       " 28: {'Clear To Sends': 2871350},\n",
       " 29: {'ACKs': 1201354},\n",
       " 30: {'CF-Ends': 775911},\n",
       " 31: {'CF-Ends/CF-Acks': 2},\n",
       " 32: {'Data': 66509},\n",
       " 33: {'Data+CF-Ack': 132},\n",
       " 34: {'Data+CF-Poll': 160},\n",
       " 35: {'Data+CF-Ack+CF-Poll': 18},\n",
       " 36: {'Null': 25045},\n",
       " 37: {'CF-Ack': 61},\n",
       " 38: {'CF-Poll': 62},\n",
       " 39: {'CF-Ack+CF-Poll': 25},\n",
       " 40: {'QoS Data': 321325},\n",
       " 41: {'QoS Data+CF-Ack': 114},\n",
       " 42: {'QoS Data+CF-Poll': 159},\n",
       " 43: {'QoS Data+CF-Ack+CF-Poll': 149},\n",
       " 44: {'QoS Null': 31825},\n",
       " 45: {'Unrecognized': 70},\n",
       " 46: {'QoS CF-Poll': 52},\n",
       " 47: {'QoS CF-Ack+CF-Poll': 31}}"
      ]
     },
     "execution_count": 14,
     "metadata": {},
     "output_type": "execute_result"
    }
   ],
   "source": [
    "types_new"
   ]
  },
  {
   "cell_type": "code",
   "execution_count": 22,
   "id": "differential-producer",
   "metadata": {
    "scrolled": true
   },
   "outputs": [
    {
     "data": {
      "text/plain": [
       "<AxesSubplot:>"
      ]
     },
     "execution_count": 22,
     "metadata": {},
     "output_type": "execute_result"
    },
    {
     "data": {
      "image/png": "[encoded data removed]",
      "text/plain": [
       "<Figure size 720x432 with 1 Axes>"
      ]
     },
     "metadata": {
      "needs_background": "light"
     },
     "output_type": "display_data"
    }
   ],
   "source": [
    "packets.Channel.hist(bins = 161, figsize = (10,6))"
   ]
  },
  {
   "cell_type": "code",
   "execution_count": 34,
   "id": "royal-thermal",
   "metadata": {},
   "outputs": [],
   "source": [
    "f = open('distribution.txt', 'w')\n",
    "\n",
    "dist = {}\n",
    "\n",
    "for _, val in types_new.items():\n",
    "    for key, value in val.items():\n",
    "        f.write(key + \"\\t\" + str(value) + \"\\n\")\n",
    "\n",
    "f.close()"
   ]
  },
  {
   "cell_type": "code",
   "execution_count": 35,
   "id": "loving-conditioning",
   "metadata": {},
   "outputs": [
    {
     "name": "stdout",
     "output_type": "stream",
     "text": [
      "[1, 2, 3, 4, 5, 6, 7, 8, 9, 10, 11, 12, 13, 36, 40, 44, 48, 52, 56, 60, 64, 100, 104, 108, 112, 116, 132, 136, 140, 149, 153, 157, 161, 165]\n"
     ]
    }
   ],
   "source": [
    "channels = np.array(packets.Channel.unique().tolist(), int).tolist()\n",
    "channels.sort()\n",
    "print(channels)"
   ]
  },
  {
   "cell_type": "code",
   "execution_count": 38,
   "id": "intensive-kuwait",
   "metadata": {},
   "outputs": [],
   "source": [
    "channel_dist = dict.fromkeys(channels, 0)"
   ]
  },
  {
   "cell_type": "code",
   "execution_count": 42,
   "id": "found-worthy",
   "metadata": {},
   "outputs": [],
   "source": [
    "for index, row in packets.iterrows():\n",
    "    channel_dist[int(row['Channel'])] = channel_dist[int(row['Channel'])] + 1"
   ]
  },
  {
   "cell_type": "code",
   "execution_count": 45,
   "id": "intense-steering",
   "metadata": {},
   "outputs": [
    {
     "name": "stdout",
     "output_type": "stream",
     "text": [
      "1\t276325\n",
      "\n",
      "2\t419347\n",
      "\n",
      "3\t302826\n",
      "\n",
      "4\t335875\n",
      "\n",
      "5\t170260\n",
      "\n",
      "6\t318327\n",
      "\n",
      "7\t784781\n",
      "\n",
      "8\t602388\n",
      "\n",
      "9\t85159\n",
      "\n",
      "10\t351130\n",
      "\n",
      "11\t1087825\n",
      "\n",
      "12\t31504\n",
      "\n",
      "13\t32187\n",
      "\n",
      "36\t1873464\n",
      "\n",
      "40\t1657763\n",
      "\n",
      "44\t1616290\n",
      "\n",
      "48\t1431629\n",
      "\n",
      "52\t1068\n",
      "\n",
      "56\t43287\n",
      "\n",
      "60\t8208\n",
      "\n",
      "64\t8861\n",
      "\n",
      "100\t2986\n",
      "\n",
      "104\t17308\n",
      "\n",
      "108\t18\n",
      "\n",
      "112\t39\n",
      "\n",
      "116\t7\n",
      "\n",
      "132\t199\n",
      "\n",
      "136\t2\n",
      "\n",
      "140\t1\n",
      "\n",
      "149\t281112\n",
      "\n",
      "153\t250368\n",
      "\n",
      "157\t290986\n",
      "\n",
      "161\t226561\n",
      "\n",
      "165\t99\n",
      "\n"
     ]
    }
   ],
   "source": [
    "\n",
    "\n",
    "f = open('channel.txt', 'w')\n",
    "\n",
    "dist = {}\n",
    "\n",
    "for key, value in channel_dist.items():\n",
    "    f.write(str(key) + \"\\t\" + str(value) + \"\\n\")\n",
    "    print(str(key) + \"\\t\" + str(value) + \"\\n\")\n",
    "\n",
    "f.close()"
   ]
  }
 ],
 "metadata": {
  "kernelspec": {
   "display_name": "Python 3",
   "language": "python",
   "name": "python3"
  },
  "language_info": {
   "codemirror_mode": {
    "name": "ipython",
    "version": 3
   },
   "file_extension": ".py",
   "mimetype": "text/x-python",
   "name": "python",
   "nbconvert_exporter": "python",
   "pygments_lexer": "ipython3",
   "version": "3.8.5"
  }
 },
 "nbformat": 4,
 "nbformat_minor": 5
}
