{
 "cells": [
  {
   "cell_type": "code",
   "execution_count": 1,
   "id": "continent-belfast",
   "metadata": {},
   "outputs": [],
   "source": [
    "import pandas as pd\n",
    "import matplotlib.pyplot as plt\n",
    "import numpy as np"
   ]
  },
  {
   "cell_type": "markdown",
   "id": "massive-thirty",
   "metadata": {},
   "source": [
    "### Read the data"
   ]
  },
  {
   "cell_type": "code",
   "execution_count": 61,
   "id": "quantitative-mixture",
   "metadata": {},
   "outputs": [],
   "source": [
    "packets = pd.read_csv('packets_cumulative.txt', sep='\\t')"
   ]
  },
  {
   "cell_type": "code",
   "execution_count": 72,
   "id": "devoted-joining",
   "metadata": {},
   "outputs": [],
   "source": [
    "packets.dropna(subset = [\"Subtype\"], inplace=True)"
   ]
  },
  {
   "cell_type": "code",
   "execution_count": 91,
   "id": "clear-kuwait",
   "metadata": {
    "scrolled": true
   },
   "outputs": [
    {
     "name": "stdout",
     "output_type": "stream",
     "text": [
      "[0, 1, 2, 3, 4, 5, 6, 7, 8, 9, 10, 11, 12, 13, 14, 15, 16, 17, 19, 20, 21, 24, 25, 26, 27, 28, 29, 30, 31, 32, 33, 34, 35, 36, 37, 38, 39, 40, 41, 42, 43, 44, 45, 46, 47]\n"
     ]
    }
   ],
   "source": [
    "subtypes = np.array(packets.Subtype.unique().tolist(), int).tolist()\n",
    "subtypes.sort()\n",
    "print(subtypes)"
   ]
  },
  {
   "cell_type": "code",
   "execution_count": 149,
   "id": "opponent-subcommittee",
   "metadata": {},
   "outputs": [],
   "source": [
    "types = {0  :{'Association Requests':0},\n",
    "         1  :{'Association Responses':0},\n",
    "         2  :{'Reassociation Requests':0},\n",
    "         3  :{'Resssociation Responses':0},\n",
    "         4  :{'Probe Requests':0},\n",
    "         5  :{'Probe Responses':0},\n",
    "         6  :{'Fragmented frame':0},\n",
    "         7  :{'Unrecognized':0},\n",
    "         8  :{'Beacons':0},\n",
    "         9  :{'ATIMs':0},\n",
    "         10 :{'Disassociations':0},\n",
    "         11 :{'Authentications':0},\n",
    "         12 :{'Deauthentications':0},\n",
    "         13 :{'Actions':0},\n",
    "         14 :{'Beamforming Action':0},\n",
    "         15 :{'Aruba Management Packet':0},\n",
    "         16 :{'Unrecognized':0},\n",
    "         17 :{'Unrecognized':0},\n",
    "         19 :{'Unrecognized':0},\n",
    "         20 :{'Unrecognized':0},\n",
    "         21 :{'NDP Announcement':0},\n",
    "         24 :{'Block ACK Requests':0},\n",
    "         25 :{'Block ACKs':0},\n",
    "         26 :{'PS-Polls':0},\n",
    "         27 :{'Ready To Sends':0},\n",
    "         28 :{'Clear To Sends':0},\n",
    "         29 :{'ACKs':0},\n",
    "         30 :{'CF-Ends':0},\n",
    "         31 :{'CF-Ends/CF-Acks':0},\n",
    "         32 :{'Data':0},\n",
    "         33 :{'Data+CF-Ack':0},\n",
    "         34 :{'Data+CF-Poll':0},\n",
    "         35 :{'Data+CF-Ack+CF-Poll':0},\n",
    "         36 :{'Null':0},\n",
    "         37 :{'CF-Ack':0},\n",
    "         38 :{'CF-Poll':0},\n",
    "         39 :{'CF-Ack+CF-Poll':0},\n",
    "         40 :{'QoS Data':0},\n",
    "         41 :{'QoS Data+CF-Ack':0},\n",
    "         42 :{'QoS Data+CF-Poll':0},\n",
    "         43 :{'QoS Data+CF-Ack+CF-Poll':0},\n",
    "         44 :{'QoS Null':0},\n",
    "         45 :{'Unrecognized':0},\n",
    "         46 :{'QoS CF-Poll':0},\n",
    "         47 :{'QoS CF-Ack+CF-Poll':0}}"
   ]
  },
  {
   "cell_type": "code",
   "execution_count": 198,
   "id": "choice-europe",
   "metadata": {},
   "outputs": [],
   "source": [
    "types_new = types\n",
    "\n",
    "for index, row in packets.iterrows():\n",
    "    types_new[int(row['Subtype'])][list(types_new[int(row['Subtype'])].keys())[0]] = types_new[int(row['Subtype'])][list(types_new[int(row['Subtype'])].keys())[0]] + 1"
   ]
  },
  {
   "cell_type": "code",
   "execution_count": 211,
   "id": "popular-thong",
   "metadata": {},
   "outputs": [
    {
     "data": {
      "text/plain": [
       "{0: {'Association Requests': 733914},\n",
       " 1: {'Association Responses': 3874270},\n",
       " 2: {'Reassociation Requests': 80457},\n",
       " 3: {'Resssociation Responses': 21},\n",
       " 4: {'Probe Requests': 5343},\n",
       " 5: {'Probe Responses': 38178},\n",
       " 6: {'Fragmented frame': 5},\n",
       " 7: {'Unrecognized': 2},\n",
       " 8: {'Beacons': 684919},\n",
       " 9: {'ATIMs': 2},\n",
       " 10: {'Disassociations': 9},\n",
       " 11: {'Authentications': 36},\n",
       " 12: {'Deauthentications': 41},\n",
       " 13: {'Actions': 4340},\n",
       " 14: {'Beamforming Action': 955},\n",
       " 15: {'Aruba Management Packet': 6},\n",
       " 16: {'Unrecognized': 2},\n",
       " 17: {'Unrecognized': 1},\n",
       " 19: {'Unrecognized': 2},\n",
       " 20: {'Unrecognized': 2},\n",
       " 21: {'NDP Announcement': 33039},\n",
       " 24: {'Block ACK Requests': 17976},\n",
       " 25: {'Block ACKs': 664350},\n",
       " 26: {'PS-Polls': 1},\n",
       " 27: {'Ready To Sends': 1273158},\n",
       " 28: {'Clear To Sends': 1116478},\n",
       " 29: {'ACKs': 494697},\n",
       " 30: {'CF-Ends': 274536},\n",
       " 31: {'CF-Ends/CF-Acks': 1},\n",
       " 32: {'Data': 23796},\n",
       " 33: {'Data+CF-Ack': 32},\n",
       " 34: {'Data+CF-Poll': 37},\n",
       " 35: {'Data+CF-Ack+CF-Poll': 4},\n",
       " 36: {'Null': 7413},\n",
       " 37: {'CF-Ack': 7},\n",
       " 38: {'CF-Poll': 16},\n",
       " 39: {'CF-Ack+CF-Poll': 8},\n",
       " 40: {'QoS Data': 39550},\n",
       " 41: {'QoS Data+CF-Ack': 21},\n",
       " 42: {'QoS Data+CF-Poll': 39},\n",
       " 43: {'QoS Data+CF-Ack+CF-Poll': 37},\n",
       " 44: {'QoS Null': 9443},\n",
       " 45: {'Unrecognized': 21},\n",
       " 46: {'QoS CF-Poll': 12},\n",
       " 47: {'QoS CF-Ack+CF-Poll': 5}}"
      ]
     },
     "execution_count": 211,
     "metadata": {},
     "output_type": "execute_result"
    }
   ],
   "source": [
    "types_new"
   ]
  },
  {
   "cell_type": "code",
   "execution_count": null,
   "id": "differential-producer",
   "metadata": {},
   "outputs": [],
   "source": []
  }
 ],
 "metadata": {
  "kernelspec": {
   "display_name": "Python 3",
   "language": "python",
   "name": "python3"
  },
  "language_info": {
   "codemirror_mode": {
    "name": "ipython",
    "version": 3
   },
   "file_extension": ".py",
   "mimetype": "text/x-python",
   "name": "python",
   "nbconvert_exporter": "python",
   "pygments_lexer": "ipython3",
   "version": "3.8.5"
  }
 },
 "nbformat": 4,
 "nbformat_minor": 5
}
