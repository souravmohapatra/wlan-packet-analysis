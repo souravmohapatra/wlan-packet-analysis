{
 "cells": [
  {
   "cell_type": "code",
   "execution_count": 1,
   "id": "continent-belfast",
   "metadata": {},
   "outputs": [],
   "source": [
    "import pandas as pd\n",
    "import matplotlib.pyplot as plt\n",
    "import numpy as np"
   ]
  },
  {
   "cell_type": "markdown",
   "id": "massive-thirty",
   "metadata": {},
   "source": [
    "### Read the data"
   ]
  },
  {
   "cell_type": "code",
   "execution_count": 27,
   "id": "quantitative-mixture",
   "metadata": {},
   "outputs": [],
   "source": [
    "packets = pd.read_csv('packets_cumulative.txt', sep='\\t', dtype ={'Time':\"string\"})"
   ]
  },
  {
   "cell_type": "code",
   "execution_count": 28,
   "id": "devoted-joining",
   "metadata": {},
   "outputs": [],
   "source": [
    "packets.dropna(subset = [\"Subtype\"], inplace=True)"
   ]
  },
  {
   "cell_type": "code",
   "execution_count": 29,
   "id": "clear-kuwait",
   "metadata": {
    "scrolled": true
   },
   "outputs": [
    {
     "name": "stdout",
     "output_type": "stream",
     "text": [
      "[0, 1, 2, 3, 4, 5, 6, 7, 8, 9, 10, 11, 12, 13, 14, 15, 16, 17, 18, 19, 20, 21, 24, 25, 26, 27, 28, 29, 30, 31, 32, 33, 34, 35, 36, 37, 38, 39, 40, 41, 42, 43, 44, 45, 46, 47]\n"
     ]
    }
   ],
   "source": [
    "subtypes = np.array(packets.Subtype.unique().tolist(), int).tolist()\n",
    "subtypes.sort()\n",
    "print(subtypes)"
   ]
  },
  {
   "cell_type": "code",
   "execution_count": 30,
   "id": "compact-computer",
   "metadata": {},
   "outputs": [
    {
     "data": {
      "text/html": [
       "<div>\n",
       "<style scoped>\n",
       "    .dataframe tbody tr th:only-of-type {\n",
       "        vertical-align: middle;\n",
       "    }\n",
       "\n",
       "    .dataframe tbody tr th {\n",
       "        vertical-align: top;\n",
       "    }\n",
       "\n",
       "    .dataframe thead th {\n",
       "        text-align: right;\n",
       "    }\n",
       "</style>\n",
       "<table border=\"1\" class=\"dataframe\">\n",
       "  <thead>\n",
       "    <tr style=\"text-align: right;\">\n",
       "      <th></th>\n",
       "      <th>Time</th>\n",
       "      <th>Channel</th>\n",
       "      <th>Type</th>\n",
       "      <th>Subtype</th>\n",
       "    </tr>\n",
       "  </thead>\n",
       "  <tbody>\n",
       "  </tbody>\n",
       "</table>\n",
       "</div>"
      ],
      "text/plain": [
       "Empty DataFrame\n",
       "Columns: [Time, Channel, Type, Subtype]\n",
       "Index: []"
      ]
     },
     "execution_count": 30,
     "metadata": {},
     "output_type": "execute_result"
    }
   ],
   "source": [
    "packets[packets['Subtype'] == 361]"
   ]
  },
  {
   "cell_type": "code",
   "execution_count": 31,
   "id": "opponent-subcommittee",
   "metadata": {},
   "outputs": [],
   "source": [
    "types = {0  :{'Association Requests':0},\n",
    "         1  :{'Association Responses':0},\n",
    "         2  :{'Reassociation Requests':0},\n",
    "         3  :{'Resssociation Responses':0},\n",
    "         4  :{'Probe Requests':0},\n",
    "         5  :{'Probe Responses':0},\n",
    "         6  :{'Fragmented frame':0},\n",
    "         7  :{'Unrecognized':0},\n",
    "         8  :{'Beacons':0},\n",
    "         9  :{'ATIMs':0},\n",
    "         10 :{'Disassociations':0},\n",
    "         11 :{'Authentications':0},\n",
    "         12 :{'Deauthentications':0},\n",
    "         13 :{'Actions':0},\n",
    "         14 :{'Beamforming Action':0},\n",
    "         15 :{'Aruba Management Packet':0},\n",
    "         16 :{'Unrecognized':0},\n",
    "         17 :{'Unrecognized':0},\n",
    "         19 :{'Unrecognized':0},\n",
    "         18 :{'Trigger BQRP':0},\n",
    "         20 :{'Unrecognized':0},\n",
    "         21 :{'NDP Announcement':0},\n",
    "         24 :{'Block ACK Requests':0},\n",
    "         25 :{'Block ACKs':0},\n",
    "         26 :{'PS-Polls':0},\n",
    "         27 :{'Ready To Sends':0},\n",
    "         28 :{'Clear To Sends':0},\n",
    "         29 :{'ACKs':0},\n",
    "         30 :{'CF-Ends':0},\n",
    "         31 :{'CF-Ends/CF-Acks':0},\n",
    "         32 :{'Data':0},\n",
    "         33 :{'Data+CF-Ack':0},\n",
    "         34 :{'Data+CF-Poll':0},\n",
    "         35 :{'Data+CF-Ack+CF-Poll':0},\n",
    "         36 :{'Null':0},\n",
    "         37 :{'CF-Ack':0},\n",
    "         38 :{'CF-Poll':0},\n",
    "         39 :{'CF-Ack+CF-Poll':0},\n",
    "         40 :{'QoS Data':0},\n",
    "         41 :{'QoS Data+CF-Ack':0},\n",
    "         42 :{'QoS Data+CF-Poll':0},\n",
    "         43 :{'QoS Data+CF-Ack+CF-Poll':0},\n",
    "         44 :{'QoS Null':0},\n",
    "         45 :{'Unrecognized':0},\n",
    "         46 :{'QoS CF-Poll':0},\n",
    "         47 :{'QoS CF-Ack+CF-Poll':0}}"
   ]
  },
  {
   "cell_type": "code",
   "execution_count": 32,
   "id": "choice-europe",
   "metadata": {},
   "outputs": [],
   "source": [
    "types_new = types\n",
    "\n",
    "for index, row in packets.iterrows():\n",
    "    types_new[int(row['Subtype'])][list(types_new[int(row['Subtype'])].keys())[0]] = types_new[int(row['Subtype'])][list(types_new[int(row['Subtype'])].keys())[0]] + 1"
   ]
  },
  {
   "cell_type": "code",
   "execution_count": 33,
   "id": "popular-thong",
   "metadata": {},
   "outputs": [
    {
     "data": {
      "text/plain": [
       "{0: {'Association Requests': 28},\n",
       " 1: {'Association Responses': 105},\n",
       " 2: {'Reassociation Requests': 59},\n",
       " 3: {'Resssociation Responses': 40},\n",
       " 4: {'Probe Requests': 19868},\n",
       " 5: {'Probe Responses': 140046},\n",
       " 6: {'Fragmented frame': 31},\n",
       " 7: {'Unrecognized': 18},\n",
       " 8: {'Beacons': 2622549},\n",
       " 9: {'ATIMs': 12},\n",
       " 10: {'Disassociations': 31},\n",
       " 11: {'Authentications': 194},\n",
       " 12: {'Deauthentications': 82},\n",
       " 13: {'Actions': 14645},\n",
       " 14: {'Beamforming Action': 3771},\n",
       " 15: {'Aruba Management Packet': 34},\n",
       " 16: {'Unrecognized': 3},\n",
       " 17: {'Unrecognized': 4},\n",
       " 19: {'Unrecognized': 10},\n",
       " 18: {'Trigger BQRP': 1},\n",
       " 20: {'Unrecognized': 11},\n",
       " 21: {'NDP Announcement': 133483},\n",
       " 24: {'Block ACK Requests': 85849},\n",
       " 25: {'Block ACKs': 2082425},\n",
       " 26: {'PS-Polls': 48},\n",
       " 27: {'Ready To Sends': 3814074},\n",
       " 28: {'Clear To Sends': 3364548},\n",
       " 29: {'ACKs': 1439922},\n",
       " 30: {'CF-Ends': 961187},\n",
       " 31: {'CF-Ends/CF-Acks': 2},\n",
       " 32: {'Data': 89572},\n",
       " 33: {'Data+CF-Ack': 195},\n",
       " 34: {'Data+CF-Poll': 245},\n",
       " 35: {'Data+CF-Ack+CF-Poll': 27},\n",
       " 36: {'Null': 37220},\n",
       " 37: {'CF-Ack': 85},\n",
       " 38: {'CF-Poll': 85},\n",
       " 39: {'CF-Ack+CF-Poll': 38},\n",
       " 40: {'QoS Data': 552679},\n",
       " 41: {'QoS Data+CF-Ack': 180},\n",
       " 42: {'QoS Data+CF-Poll': 243},\n",
       " 43: {'QoS Data+CF-Ack+CF-Poll': 248},\n",
       " 44: {'QoS Null': 41994},\n",
       " 45: {'Unrecognized': 101},\n",
       " 46: {'QoS CF-Poll': 100},\n",
       " 47: {'QoS CF-Ack+CF-Poll': 44}}"
      ]
     },
     "execution_count": 33,
     "metadata": {},
     "output_type": "execute_result"
    }
   ],
   "source": [
    "types_new"
   ]
  },
  {
   "cell_type": "code",
   "execution_count": 34,
   "id": "royal-thermal",
   "metadata": {},
   "outputs": [],
   "source": [
    "f = open('distribution.txt', 'w')\n",
    "\n",
    "dist = {}\n",
    "\n",
    "for _, val in types_new.items():\n",
    "    for key, value in val.items():\n",
    "        f.write(key + \"\\t\" + str(value) + \"\\n\")\n",
    "\n",
    "f.close()"
   ]
  },
  {
   "cell_type": "code",
   "execution_count": 35,
   "id": "loving-conditioning",
   "metadata": {},
   "outputs": [
    {
     "name": "stdout",
     "output_type": "stream",
     "text": [
      "[1, 2, 3, 4, 5, 6, 7, 8, 9, 10, 11, 12, 13, 36, 40, 44, 48, 52, 56, 60, 64, 100, 104, 108, 112, 116, 132, 136, 140, 149, 153, 157, 161, 165]\n"
     ]
    }
   ],
   "source": [
    "channels = np.array(packets.Channel.unique().tolist(), int).tolist()\n",
    "channels.sort()\n",
    "print(channels)"
   ]
  },
  {
   "cell_type": "code",
   "execution_count": 36,
   "id": "intensive-kuwait",
   "metadata": {},
   "outputs": [],
   "source": [
    "channel_dist = dict.fromkeys(channels, 0)"
   ]
  },
  {
   "cell_type": "code",
   "execution_count": 37,
   "id": "found-worthy",
   "metadata": {},
   "outputs": [],
   "source": [
    "for index, row in packets.iterrows():\n",
    "    channel_dist[int(row['Channel'])] = channel_dist[int(row['Channel'])] + 1"
   ]
  },
  {
   "cell_type": "code",
   "execution_count": 38,
   "id": "intense-steering",
   "metadata": {},
   "outputs": [
    {
     "name": "stdout",
     "output_type": "stream",
     "text": [
      "1\t365056\n",
      "\n",
      "2\t502351\n",
      "\n",
      "3\t336392\n",
      "\n",
      "4\t451913\n",
      "\n",
      "5\t239737\n",
      "\n",
      "6\t385829\n",
      "\n",
      "7\t837362\n",
      "\n",
      "8\t797691\n",
      "\n",
      "9\t112842\n",
      "\n",
      "10\t486261\n",
      "\n",
      "11\t1178124\n",
      "\n",
      "12\t49580\n",
      "\n",
      "13\t142801\n",
      "\n",
      "36\t2492939\n",
      "\n",
      "40\t2053553\n",
      "\n",
      "44\t1953095\n",
      "\n",
      "48\t1747140\n",
      "\n",
      "52\t1070\n",
      "\n",
      "56\t56865\n",
      "\n",
      "60\t8260\n",
      "\n",
      "64\t12513\n",
      "\n",
      "100\t3219\n",
      "\n",
      "104\t23174\n",
      "\n",
      "108\t23\n",
      "\n",
      "112\t69\n",
      "\n",
      "116\t7\n",
      "\n",
      "132\t199\n",
      "\n",
      "136\t2\n",
      "\n",
      "140\t1\n",
      "\n",
      "149\t309718\n",
      "\n",
      "153\t273666\n",
      "\n",
      "157\t334086\n",
      "\n",
      "161\t250475\n",
      "\n",
      "165\t123\n",
      "\n"
     ]
    }
   ],
   "source": [
    "\n",
    "\n",
    "f = open('channel.txt', 'w')\n",
    "\n",
    "dist = {}\n",
    "\n",
    "for key, value in channel_dist.items():\n",
    "    f.write(str(key) + \"\\t\" + str(value) + \"\\n\")\n",
    "    print(str(key) + \"\\t\" + str(value) + \"\\n\")\n",
    "\n",
    "f.close()"
   ]
  }
 ],
 "metadata": {
  "kernelspec": {
   "display_name": "Python 3",
   "language": "python",
   "name": "python3"
  },
  "language_info": {
   "codemirror_mode": {
    "name": "ipython",
    "version": 3
   },
   "file_extension": ".py",
   "mimetype": "text/x-python",
   "name": "python",
   "nbconvert_exporter": "python",
   "pygments_lexer": "ipython3",
   "version": "3.8.5"
  }
 },
 "nbformat": 4,
 "nbformat_minor": 5
}
